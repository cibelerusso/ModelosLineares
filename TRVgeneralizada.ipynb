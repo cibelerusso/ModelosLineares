{
 "cells": [
  {
   "cell_type": "markdown",
   "metadata": {},
   "source": [
    "# Teste da razão de verossimilhança generalizada\n",
    "## SME0812 Modelos Lineares\n",
    "### por Cibele Russo\n",
    "\n",
    "#### ICMC/USP - São Carlos SP"
   ]
  },
  {
   "cell_type": "code",
   "execution_count": 52,
   "metadata": {
    "id": "pbqKvLSCRZeq"
   },
   "outputs": [],
   "source": [
    "from scipy.stats import f\n",
    "\n",
    "def f_test_linear_hypothesis(Y, X_full, C, m):\n",
    "    \"\"\"\n",
    "    Teste F para hipóteses lineares gerais H0: Cβ = m.\n",
    "\n",
    "    Y : vetor resposta (n x 1)\n",
    "    X_full : matriz de preditoras do modelo completo (n x p)\n",
    "    C : matriz de restrição (q x p)\n",
    "    m : vetor de restrição (q x 1)\n",
    "    \n",
    "    Retorna:\n",
    "    - estatística F\n",
    "    - p-valor\n",
    "    \"\"\"\n",
    "    n, p = X_full.shape\n",
    "    q = C.shape[0]\n",
    "\n",
    "    # Ajuste do modelo completo\n",
    "    modelo_irrestrito = sm.OLS(Y, X_full).fit()\n",
    "    beta_hat = modelo_irrestrito.params.values.reshape(-1, 1)\n",
    "    mse = modelo_irrestrito.mse_resid\n",
    "    XtX_inv = np.linalg.inv(X_full.T @ X_full)\n",
    "\n",
    "    # Estatística F\n",
    "    num = (C @ beta_hat - m).T @ np.linalg.inv(C @ XtX_inv @ C.T) @ (C @ beta_hat - m) / q\n",
    "    F = num / mse\n",
    "    p_valor = 1 - f.cdf(F, q, n - p)\n",
    "\n",
    "    return F.item(), p_valor[0,0]\n"
   ]
  },
  {
   "cell_type": "code",
   "execution_count": 54,
   "metadata": {
    "id": "LEhSl2mu83Rc"
   },
   "outputs": [],
   "source": [
    "import pandas as pd\n",
    "import numpy as np\n",
    "\n",
    "df = pd.read_csv('https://raw.githubusercontent.com/cibelerusso/IntroducaoaInferenciaEstatistica/main/Dados/kc_house_data.csv')\n",
    "df.head()\n",
    "\n",
    "df.rename(columns={\n",
    "    'id': 'id',\n",
    "    'date': 'data',\n",
    "    'price': 'preco',\n",
    "    'bedrooms': 'quartos',\n",
    "    'bathrooms': 'banheiros',\n",
    "    'sqft_living': 'area_util',\n",
    "    'sqft_lot': 'area_total',\n",
    "    'floors': 'andares',\n",
    "    'waterfront': 'frente_para_agua',\n",
    "    'view': 'vista',\n",
    "    'condition': 'condicao',\n",
    "    'grade': 'classificacao',\n",
    "    'sqft_above': 'area_sobre_o_nivel_do_chao',\n",
    "    'sqft_basement': 'area_porao',\n",
    "    'yr_built': 'ano_construcao',\n",
    "    'yr_renovated': 'ano_reforma',\n",
    "    'zipcode': 'cep',\n",
    "    'lat': 'latitude',\n",
    "    'long': 'longitude',\n",
    "    'sqft_living15': 'area_util_vizinhanca',\n",
    "    'sqft_lot15': 'area_total_vizinhanca'\n",
    "}, inplace=True)\n",
    "\n",
    "df['preco_transformado'] = (pow(df['preco'],-0.234) - 1)/(-0.234)\n"
   ]
  },
  {
   "cell_type": "code",
   "execution_count": 55,
   "metadata": {
    "id": "arP8nnUiQJVT"
   },
   "outputs": [],
   "source": [
    "# Ajusta o modelo de regressão linear múltipla para o preço das casas com duas preditoras\n",
    "from sklearn.model_selection import train_test_split\n",
    "from statsmodels.formula.api import ols\n",
    "\n",
    "modelo = ols('preco_transformado ~ area_util', data=df)\n",
    "res = modelo.fit()\n"
   ]
  },
  {
   "cell_type": "code",
   "execution_count": 56,
   "metadata": {
    "colab": {
     "base_uri": "https://localhost:8080/"
    },
    "id": "IfuQREYLQM4B",
    "outputId": "098b47e9-e38f-4885-8a72-83e9684a7fab"
   },
   "outputs": [
    {
     "name": "stdout",
     "output_type": "stream",
     "text": [
      "                            OLS Regression Results                            \n",
      "==============================================================================\n",
      "Dep. Variable:     preco_transformado   R-squared:                       0.456\n",
      "Model:                            OLS   Adj. R-squared:                  0.456\n",
      "Method:                 Least Squares   F-statistic:                 1.809e+04\n",
      "Date:                Tue, 22 Apr 2025   Prob (F-statistic):               0.00\n",
      "Time:                        15:54:34   Log-Likelihood:                 56032.\n",
      "No. Observations:               21613   AIC:                        -1.121e+05\n",
      "Df Residuals:                   21611   BIC:                        -1.120e+05\n",
      "Df Model:                           1                                         \n",
      "Covariance Type:            nonrobust                                         \n",
      "==============================================================================\n",
      "                 coef    std err          t      P>|t|      [0.025      0.975]\n",
      "------------------------------------------------------------------------------\n",
      "Intercept      4.0327      0.000   1.32e+04      0.000       4.032       4.033\n",
      "area_util   1.804e-05   1.34e-07    134.490      0.000    1.78e-05    1.83e-05\n",
      "==============================================================================\n",
      "Omnibus:                      263.982   Durbin-Watson:                   1.979\n",
      "Prob(Omnibus):                  0.000   Jarque-Bera (JB):              274.329\n",
      "Skew:                          -0.268   Prob(JB):                     2.69e-60\n",
      "Kurtosis:                       3.135   Cond. No.                     5.63e+03\n",
      "==============================================================================\n",
      "\n",
      "Notes:\n",
      "[1] Standard Errors assume that the covariance matrix of the errors is correctly specified.\n",
      "[2] The condition number is large, 5.63e+03. This might indicate that there are\n",
      "strong multicollinearity or other numerical problems.\n"
     ]
    }
   ],
   "source": [
    "print(res.summary())"
   ]
  },
  {
   "cell_type": "code",
   "execution_count": 57,
   "metadata": {
    "colab": {
     "base_uri": "https://localhost:8080/"
    },
    "id": "WAZn7IC4QTX9",
    "outputId": "41488047-480a-47c1-b2b4-b69da70b5cce"
   },
   "outputs": [
    {
     "name": "stdout",
     "output_type": "stream",
     "text": [
      "Estatística do teste: 13143.1903\n",
      "p-valor: 0.0000\n",
      "18087.661906801077\n",
      "1.1102230246251565e-16\n",
      "Estatística do teste: 18087.6619\n",
      "p-valor: 0.0000\n"
     ]
    }
   ],
   "source": [
    "import numpy as np\n",
    "\n",
    "# Hipótese: H0: β1 = 0\n",
    "C = np.array([[0, 1]])\n",
    "m = np.array([0])\n",
    "\n",
    "Y = df['preco_transformado']\n",
    "\n",
    "X = sm.add_constant(df[['area_util']])\n",
    "\n",
    "# Executa o teste\n",
    "estat, p = likelihood_ratio_test(Y, X, C, m)\n",
    "print(f\"Estatística do teste: {estat:.4f}\")\n",
    "print(f\"p-valor: {p:.4f}\")\n",
    "\n",
    "# Executa o teste\n",
    "estat, p = f_test_linear_hypothesis(Y, X, C, m)\n",
    "\n",
    "print(estat)\n",
    "print(p)\n",
    "\n",
    "\n",
    "print(f\"Estatística do teste: {estat:.4f}\")\n",
    "print(f\"p-valor: {p:.4f}\")\n",
    "\n",
    "\n"
   ]
  },
  {
   "cell_type": "code",
   "execution_count": 58,
   "metadata": {
    "colab": {
     "base_uri": "https://localhost:8080/"
    },
    "id": "C2smgvOXRWJm",
    "outputId": "0d62b3d8-1cff-461e-cb21-f39fd2c38184"
   },
   "outputs": [
    {
     "name": "stdout",
     "output_type": "stream",
     "text": [
      "                            OLS Regression Results                            \n",
      "==============================================================================\n",
      "Dep. Variable:     preco_transformado   R-squared:                       0.529\n",
      "Model:                            OLS   Adj. R-squared:                  0.529\n",
      "Method:                 Least Squares   F-statistic:                 1.214e+04\n",
      "Date:                Tue, 22 Apr 2025   Prob (F-statistic):               0.00\n",
      "Time:                        15:54:36   Log-Likelihood:                 57598.\n",
      "No. Observations:               21613   AIC:                        -1.152e+05\n",
      "Df Residuals:                   21610   BIC:                        -1.152e+05\n",
      "Df Model:                           2                                         \n",
      "Covariance Type:            nonrobust                                         \n",
      "=================================================================================\n",
      "                    coef    std err          t      P>|t|      [0.025      0.975]\n",
      "---------------------------------------------------------------------------------\n",
      "Intercept         3.9835      0.001   4455.258      0.000       3.982       3.985\n",
      "area_util      9.496e-06   1.93e-07     49.233      0.000    9.12e-06    9.87e-06\n",
      "classificacao     0.0088      0.000     58.063      0.000       0.008       0.009\n",
      "==============================================================================\n",
      "Omnibus:                      102.381   Durbin-Watson:                   1.978\n",
      "Prob(Omnibus):                  0.000   Jarque-Bera (JB):              103.724\n",
      "Skew:                          -0.169   Prob(JB):                     3.00e-23\n",
      "Kurtosis:                       3.038   Cond. No.                     1.80e+04\n",
      "==============================================================================\n",
      "\n",
      "Notes:\n",
      "[1] Standard Errors assume that the covariance matrix of the errors is correctly specified.\n",
      "[2] The condition number is large, 1.8e+04. This might indicate that there are\n",
      "strong multicollinearity or other numerical problems.\n"
     ]
    }
   ],
   "source": [
    "# Ajusta o modelo de regressão linear múltipla para o preço das casas com duas preditoras\n",
    "from sklearn.model_selection import train_test_split\n",
    "from statsmodels.formula.api import ols\n",
    "\n",
    "modelo = ols('preco_transformado ~ area_util + classificacao', data=df)\n",
    "res = modelo.fit()\n",
    "print(res.summary())\n"
   ]
  },
  {
   "cell_type": "code",
   "execution_count": 59,
   "metadata": {},
   "outputs": [],
   "source": [
    "import pandas as pd\n",
    "import numpy as np\n",
    "\n",
    "df = pd.read_csv('https://raw.githubusercontent.com/cibelerusso/IntroducaoaInferenciaEstatistica/main/Dados/kc_house_data.csv')\n",
    "df.head()\n",
    "\n",
    "df.rename(columns={\n",
    "    'id': 'id',\n",
    "    'date': 'data',\n",
    "    'price': 'preco',\n",
    "    'bedrooms': 'quartos',\n",
    "    'bathrooms': 'banheiros',\n",
    "    'sqft_living': 'area_util',\n",
    "    'sqft_lot': 'area_total',\n",
    "    'floors': 'andares',\n",
    "    'waterfront': 'frente_para_agua',\n",
    "    'view': 'vista',\n",
    "    'condition': 'condicao',\n",
    "    'grade': 'classificacao',\n",
    "    'sqft_above': 'area_sobre_o_nivel_do_chao',\n",
    "    'sqft_basement': 'area_porao',\n",
    "    'yr_built': 'ano_construcao',\n",
    "    'yr_renovated': 'ano_reforma',\n",
    "    'zipcode': 'cep',\n",
    "    'lat': 'latitude',\n",
    "    'long': 'longitude',\n",
    "    'sqft_living15': 'area_util_vizinhanca',\n",
    "    'sqft_lot15': 'area_total_vizinhanca'\n",
    "}, inplace=True)\n",
    "\n",
    "df['preco_transformado'] = (pow(df['preco'],-0.234) - 1)/(-0.234)\n"
   ]
  },
  {
   "cell_type": "code",
   "execution_count": 60,
   "metadata": {},
   "outputs": [
    {
     "name": "stdout",
     "output_type": "stream",
     "text": [
      "Estatística do teste: 2423.9189\n",
      "p-valor: 0.0000\n"
     ]
    }
   ],
   "source": [
    "import numpy as np\n",
    "\n",
    "# Hipótese: H0: β1 = 0\n",
    "C = np.array([[0, 1, 0]])\n",
    "m = np.array([0])\n",
    "\n",
    "Y = df['preco_transformado']\n",
    "\n",
    "X = sm.add_constant(df[['area_util', 'classificacao']])\n",
    "\n",
    "# Executa o teste\n",
    "estat, p = f_test_linear_hypothesis(Y, X, C, m)\n",
    "print(f\"Estatística do teste: {estat:.4f}\")\n",
    "print(f\"p-valor: {p:.4f}\")"
   ]
  },
  {
   "cell_type": "code",
   "execution_count": 65,
   "metadata": {},
   "outputs": [
    {
     "name": "stdout",
     "output_type": "stream",
     "text": [
      "Estatística do teste: 2.8098\n",
      "p-valor: 0.0937\n"
     ]
    }
   ],
   "source": [
    "import numpy as np\n",
    "\n",
    "# Hipótese: H0: β0 = 4\n",
    "C = np.array([[1, 0, 0]])\n",
    "m = np.array([3.982])\n",
    "\n",
    "Y = df['preco_transformado']\n",
    "\n",
    "X = sm.add_constant(df[['area_util', 'classificacao']])\n",
    "\n",
    "# Executa o teste\n",
    "estat, p = f_test_linear_hypothesis(Y, X, C, m)\n",
    "print(f\"Estatística do teste: {estat:.4f}\")\n",
    "print(f\"p-valor: {p:.4f}\")"
   ]
  },
  {
   "cell_type": "code",
   "execution_count": null,
   "metadata": {},
   "outputs": [],
   "source": []
  },
  {
   "cell_type": "markdown",
   "metadata": {},
   "source": [
    "# Considerando uma amostra\n"
   ]
  },
  {
   "cell_type": "code",
   "execution_count": 77,
   "metadata": {},
   "outputs": [
    {
     "name": "stdout",
     "output_type": "stream",
     "text": [
      "                            OLS Regression Results                            \n",
      "==============================================================================\n",
      "Dep. Variable:     preco_transformado   R-squared:                       0.538\n",
      "Model:                            OLS   Adj. R-squared:                  0.538\n",
      "Method:                 Least Squares   F-statistic:                     1257.\n",
      "Date:                Tue, 22 Apr 2025   Prob (F-statistic):               0.00\n",
      "Time:                        16:11:39   Log-Likelihood:                 5738.3\n",
      "No. Observations:                2161   AIC:                        -1.147e+04\n",
      "Df Residuals:                    2158   BIC:                        -1.145e+04\n",
      "Df Model:                           2                                         \n",
      "Covariance Type:            nonrobust                                         \n",
      "=================================================================================\n",
      "                    coef    std err          t      P>|t|      [0.025      0.975]\n",
      "---------------------------------------------------------------------------------\n",
      "Intercept         3.9796      0.003   1408.878      0.000       3.974       3.985\n",
      "area_util       9.34e-06   6.21e-07     15.035      0.000    8.12e-06    1.06e-05\n",
      "classificacao     0.0093      0.000     19.570      0.000       0.008       0.010\n",
      "==============================================================================\n",
      "Omnibus:                        9.455   Durbin-Watson:                   2.037\n",
      "Prob(Omnibus):                  0.009   Jarque-Bera (JB):                9.425\n",
      "Skew:                          -0.153   Prob(JB):                      0.00898\n",
      "Kurtosis:                       3.106   Cond. No.                     1.78e+04\n",
      "==============================================================================\n",
      "\n",
      "Notes:\n",
      "[1] Standard Errors assume that the covariance matrix of the errors is correctly specified.\n",
      "[2] The condition number is large, 1.78e+04. This might indicate that there are\n",
      "strong multicollinearity or other numerical problems.\n"
     ]
    }
   ],
   "source": [
    "import pandas as pd\n",
    "from sklearn.model_selection import train_test_split\n",
    "from statsmodels.formula.api import ols\n",
    "\n",
    "# Cria uma amostra aleatória dos dados (20% dos dados, por exemplo)\n",
    "df_amostra = df.sample(frac=0.1, random_state=42)  # Ajuste o frac conforme desejar\n",
    "\n",
    "# Ajusta o modelo de regressão linear múltipla com duas preditoras\n",
    "modelo = ols('preco_transformado ~ area_util + classificacao', data=df_amostra)\n",
    "res = modelo.fit()\n",
    "\n",
    "# Exibe o resumo do modelo\n",
    "print(res.summary())\n"
   ]
  },
  {
   "cell_type": "code",
   "execution_count": 80,
   "metadata": {},
   "outputs": [
    {
     "name": "stdout",
     "output_type": "stream",
     "text": [
      "Estatística do teste: 0.0220\n",
      "p-valor: 0.8820\n"
     ]
    }
   ],
   "source": [
    "import numpy as np\n",
    "\n",
    "# Hipótese: H0: β0 = 4\n",
    "C = np.array([[1, 0, 0]])\n",
    "m = np.array([3.98])\n",
    "\n",
    "Y = df_amostra['preco_transformado']\n",
    "\n",
    "X = sm.add_constant(df_amostra[['area_util', 'classificacao']])\n",
    "\n",
    "# Executa o teste\n",
    "estat, p = f_test_linear_hypothesis(Y, X, C, m)\n",
    "print(f\"Estatística do teste: {estat:.4f}\")\n",
    "print(f\"p-valor: {p:.4f}\")"
   ]
  },
  {
   "cell_type": "code",
   "execution_count": null,
   "metadata": {},
   "outputs": [],
   "source": []
  }
 ],
 "metadata": {
  "colab": {
   "provenance": []
  },
  "kernelspec": {
   "display_name": "Python 3 (ipykernel)",
   "language": "python",
   "name": "python3"
  },
  "language_info": {
   "codemirror_mode": {
    "name": "ipython",
    "version": 3
   },
   "file_extension": ".py",
   "mimetype": "text/x-python",
   "name": "python",
   "nbconvert_exporter": "python",
   "pygments_lexer": "ipython3",
   "version": "3.10.12"
  }
 },
 "nbformat": 4,
 "nbformat_minor": 1
}
