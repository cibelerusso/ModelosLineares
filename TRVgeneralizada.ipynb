{
  "nbformat": 4,
  "nbformat_minor": 0,
  "metadata": {
    "colab": {
      "provenance": []
    },
    "kernelspec": {
      "name": "python3",
      "display_name": "Python 3"
    },
    "language_info": {
      "name": "python"
    }
  },
  "cells": [
    {
      "cell_type": "code",
      "execution_count": 26,
      "metadata": {
        "id": "YdQATUpg8yM0"
      },
      "outputs": [],
      "source": [
        "import numpy as np\n",
        "import statsmodels.api as sm\n",
        "from scipy.stats import chi2\n",
        "\n",
        "def likelihood_ratio_test(Y, X_full, C, m):\n",
        "    \"\"\"\n",
        "    Teste da razão de verossimilhança para hipóteses lineares gerais.\n",
        "\n",
        "    Y :  vetor resposta (n x 1)\n",
        "    X_full : matriz de preditoras do modelo completo (n x p)\n",
        "    C : matriz de restrição (q x p)\n",
        "    m : vetor de restrição (q x 1)\n",
        "\n",
        "    Retorna:\n",
        "    - estatística de teste\n",
        "    - p-valor\n",
        "    \"\"\"\n",
        "    # Ajuste do modelo completo\n",
        "    modelo_irrestrito = sm.OLS(Y, X_full).fit()\n",
        "    logveros_irrestrita = modelo_irrestrito.llf  # log-verossimilhança do modelo completo\n",
        "\n",
        "    # Ajuste do modelo reduzido (com restrição Cβ = m)\n",
        "    X = np.asarray(X_full)\n",
        "    Y = np.asarray(Y).reshape(-1, 1)\n",
        "    C = np.asarray(C)\n",
        "    m = np.asarray(m).reshape(-1, 1)\n",
        "\n",
        "    XtX_inv = np.linalg.inv(X.T @ X)\n",
        "    beta_hat = XtX_inv @ X.T @ Y\n",
        "    lambda_ = np.linalg.inv(C @ XtX_inv @ C.T) @ (C @ beta_hat - m)\n",
        "    beta_restricted = beta_hat - XtX_inv @ C.T @ lambda_\n",
        "\n",
        "    residuos = Y - X @ beta_restricted\n",
        "    sigma2 = (residuos.T @ residuos) / len(Y)\n",
        "    logveros_restrita = -0.5 * len(Y) * (np.log(2 * np.pi * sigma2) + 1)\n",
        "\n",
        "    # Estatística do teste\n",
        "    W = 2 * (logveros_irrestrita - logveros_restrita.item())\n",
        "    df = C.shape[0]\n",
        "    p_value = 1 - chi2.cdf(W, df)\n",
        "\n",
        "    return W, p_value\n"
      ]
    },
    {
      "cell_type": "code",
      "source": [
        "import numpy as np\n",
        "\n",
        "# Simulando dados\n",
        "np.random.seed(42)\n",
        "n = 100\n",
        "X1 = np.random.normal(size=n)\n",
        "X = sm.add_constant(X1)\n",
        "beta = np.array([[2], [3]])  # intercepto = 2, coef = 3\n",
        "Y = X @ beta + np.random.normal(size=(n,1))\n",
        "\n",
        "# Hipótese: H0: β1 = 0\n",
        "R = np.array([[0, 1]])\n",
        "r = np.array([0])\n",
        "\n",
        "# Executa o teste\n",
        "estat, p = likelihood_ratio_test(Y, X, R, r)\n",
        "print(f\"Estatística do teste: {estat:.4f}\")\n",
        "print(f\"p-valor: {p:.4f}\")\n"
      ],
      "metadata": {
        "colab": {
          "base_uri": "https://localhost:8080/"
        },
        "id": "L8ZApiVf8yqD",
        "outputId": "ab143592-6c27-4eb4-ddab-9c77ad122789"
      },
      "execution_count": 27,
      "outputs": [
        {
          "output_type": "stream",
          "name": "stdout",
          "text": [
            "Estatística do teste: 214.4898\n",
            "p-valor: 0.0000\n"
          ]
        }
      ]
    },
    {
      "cell_type": "code",
      "source": [
        "import pandas as pd\n",
        "import numpy as np\n",
        "\n",
        "df = pd.read_csv('https://raw.githubusercontent.com/cibelerusso/IntroducaoaInferenciaEstatistica/main/Dados/kc_house_data.csv')\n",
        "df.head()\n",
        "\n",
        "df.rename(columns={\n",
        "    'id': 'id',\n",
        "    'date': 'data',\n",
        "    'price': 'preco',\n",
        "    'bedrooms': 'quartos',\n",
        "    'bathrooms': 'banheiros',\n",
        "    'sqft_living': 'area_util',\n",
        "    'sqft_lot': 'area_total',\n",
        "    'floors': 'andares',\n",
        "    'waterfront': 'frente_para_agua',\n",
        "    'view': 'vista',\n",
        "    'condition': 'condicao',\n",
        "    'grade': 'classificacao',\n",
        "    'sqft_above': 'area_sobre_o_nivel_do_chao',\n",
        "    'sqft_basement': 'area_porao',\n",
        "    'yr_built': 'ano_construcao',\n",
        "    'yr_renovated': 'ano_reforma',\n",
        "    'zipcode': 'cep',\n",
        "    'lat': 'latitude',\n",
        "    'long': 'longitude',\n",
        "    'sqft_living15': 'area_util_vizinhanca',\n",
        "    'sqft_lot15': 'area_total_vizinhanca'\n",
        "}, inplace=True)\n",
        "\n",
        "df['preco_transformado'] = (pow(df['preco'],-0.234) - 1)/(-0.234)\n"
      ],
      "metadata": {
        "id": "LEhSl2mu83Rc"
      },
      "execution_count": 28,
      "outputs": []
    },
    {
      "cell_type": "code",
      "source": [
        "# Ajusta o modelo de regressão linear múltipla para o preço das casas com duas preditoras\n",
        "from sklearn.model_selection import train_test_split\n",
        "from statsmodels.formula.api import ols\n",
        "\n",
        "modelo = ols('preco_transformado ~ area_util', data=df)\n",
        "res = modelo.fit()\n"
      ],
      "metadata": {
        "id": "arP8nnUiQJVT"
      },
      "execution_count": 29,
      "outputs": []
    },
    {
      "cell_type": "code",
      "source": [
        "print(res.summary())"
      ],
      "metadata": {
        "colab": {
          "base_uri": "https://localhost:8080/"
        },
        "id": "IfuQREYLQM4B",
        "outputId": "098b47e9-e38f-4885-8a72-83e9684a7fab"
      },
      "execution_count": 30,
      "outputs": [
        {
          "output_type": "stream",
          "name": "stdout",
          "text": [
            "                            OLS Regression Results                            \n",
            "==============================================================================\n",
            "Dep. Variable:     preco_transformado   R-squared:                       0.456\n",
            "Model:                            OLS   Adj. R-squared:                  0.456\n",
            "Method:                 Least Squares   F-statistic:                 1.809e+04\n",
            "Date:                Thu, 10 Apr 2025   Prob (F-statistic):               0.00\n",
            "Time:                        19:56:02   Log-Likelihood:                 56032.\n",
            "No. Observations:               21613   AIC:                        -1.121e+05\n",
            "Df Residuals:                   21611   BIC:                        -1.120e+05\n",
            "Df Model:                           1                                         \n",
            "Covariance Type:            nonrobust                                         \n",
            "==============================================================================\n",
            "                 coef    std err          t      P>|t|      [0.025      0.975]\n",
            "------------------------------------------------------------------------------\n",
            "Intercept      4.0327      0.000   1.32e+04      0.000       4.032       4.033\n",
            "area_util   1.804e-05   1.34e-07    134.490      0.000    1.78e-05    1.83e-05\n",
            "==============================================================================\n",
            "Omnibus:                      263.982   Durbin-Watson:                   1.979\n",
            "Prob(Omnibus):                  0.000   Jarque-Bera (JB):              274.329\n",
            "Skew:                          -0.268   Prob(JB):                     2.69e-60\n",
            "Kurtosis:                       3.135   Cond. No.                     5.63e+03\n",
            "==============================================================================\n",
            "\n",
            "Notes:\n",
            "[1] Standard Errors assume that the covariance matrix of the errors is correctly specified.\n",
            "[2] The condition number is large, 5.63e+03. This might indicate that there are\n",
            "strong multicollinearity or other numerical problems.\n"
          ]
        }
      ]
    },
    {
      "cell_type": "code",
      "source": [
        "import numpy as np\n",
        "\n",
        "# Hipótese: H0: β1 = 0\n",
        "C = np.array([[0, 1]])\n",
        "m = np.array([0])\n",
        "\n",
        "Y = df['preco_transformado']\n",
        "\n",
        "X = sm.add_constant(df[['area_util']])\n",
        "\n",
        "# Executa o teste\n",
        "estat, p = likelihood_ratio_test(Y, X, C, m)\n",
        "print(f\"Estatística do teste: {estat:.4f}\")\n",
        "print(f\"p-valor: {p:.4f}\")"
      ],
      "metadata": {
        "colab": {
          "base_uri": "https://localhost:8080/"
        },
        "id": "WAZn7IC4QTX9",
        "outputId": "41488047-480a-47c1-b2b4-b69da70b5cce"
      },
      "execution_count": 31,
      "outputs": [
        {
          "output_type": "stream",
          "name": "stdout",
          "text": [
            "Estatística do teste: 13143.1903\n",
            "p-valor: 0.0000\n"
          ]
        }
      ]
    },
    {
      "cell_type": "code",
      "source": [
        "# Ajusta o modelo de regressão linear múltipla para o preço das casas com duas preditoras\n",
        "from sklearn.model_selection import train_test_split\n",
        "from statsmodels.formula.api import ols\n",
        "\n",
        "modelo = ols('preco_transformado ~ area_util + classificacao', data=df)\n",
        "res = modelo.fit()\n",
        "print(res.summary())\n"
      ],
      "metadata": {
        "colab": {
          "base_uri": "https://localhost:8080/"
        },
        "id": "C2smgvOXRWJm",
        "outputId": "0d62b3d8-1cff-461e-cb21-f39fd2c38184"
      },
      "execution_count": 32,
      "outputs": [
        {
          "output_type": "stream",
          "name": "stdout",
          "text": [
            "                            OLS Regression Results                            \n",
            "==============================================================================\n",
            "Dep. Variable:     preco_transformado   R-squared:                       0.529\n",
            "Model:                            OLS   Adj. R-squared:                  0.529\n",
            "Method:                 Least Squares   F-statistic:                 1.214e+04\n",
            "Date:                Thu, 10 Apr 2025   Prob (F-statistic):               0.00\n",
            "Time:                        19:56:02   Log-Likelihood:                 57598.\n",
            "No. Observations:               21613   AIC:                        -1.152e+05\n",
            "Df Residuals:                   21610   BIC:                        -1.152e+05\n",
            "Df Model:                           2                                         \n",
            "Covariance Type:            nonrobust                                         \n",
            "=================================================================================\n",
            "                    coef    std err          t      P>|t|      [0.025      0.975]\n",
            "---------------------------------------------------------------------------------\n",
            "Intercept         3.9835      0.001   4455.258      0.000       3.982       3.985\n",
            "area_util      9.496e-06   1.93e-07     49.233      0.000    9.12e-06    9.87e-06\n",
            "classificacao     0.0088      0.000     58.063      0.000       0.008       0.009\n",
            "==============================================================================\n",
            "Omnibus:                      102.381   Durbin-Watson:                   1.978\n",
            "Prob(Omnibus):                  0.000   Jarque-Bera (JB):              103.724\n",
            "Skew:                          -0.169   Prob(JB):                     3.00e-23\n",
            "Kurtosis:                       3.038   Cond. No.                     1.80e+04\n",
            "==============================================================================\n",
            "\n",
            "Notes:\n",
            "[1] Standard Errors assume that the covariance matrix of the errors is correctly specified.\n",
            "[2] The condition number is large, 1.8e+04. This might indicate that there are\n",
            "strong multicollinearity or other numerical problems.\n"
          ]
        }
      ]
    },
    {
      "cell_type": "code",
      "source": [
        "import numpy as np\n",
        "\n",
        "# Hipótese: H0: β1 = 0\n",
        "C = np.array([[0, 1, 0]])\n",
        "m = np.array([0])\n",
        "\n",
        "Y = df['preco_transformado']\n",
        "\n",
        "X = sm.add_constant(df[['area_util', 'classificacao']])\n",
        "\n",
        "# Executa o teste\n",
        "estat, p = likelihood_ratio_test(Y, X, C, m)\n",
        "print(f\"Estatística do teste: {estat:.4f}\")\n",
        "print(f\"p-valor: {p:.4f}\")"
      ],
      "metadata": {
        "colab": {
          "base_uri": "https://localhost:8080/"
        },
        "id": "JF-eMsQzQqCR",
        "outputId": "82a1ce44-625d-45a4-ff42-4f016de0a991"
      },
      "execution_count": 33,
      "outputs": [
        {
          "output_type": "stream",
          "name": "stdout",
          "text": [
            "Estatística do teste: 2297.6770\n",
            "p-valor: 0.0000\n"
          ]
        }
      ]
    },
    {
      "cell_type": "code",
      "source": [],
      "metadata": {
        "id": "pbqKvLSCRZeq"
      },
      "execution_count": 33,
      "outputs": []
    }
  ]
}